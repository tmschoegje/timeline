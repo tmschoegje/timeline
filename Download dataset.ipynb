{
 "cells": [
  {
   "cell_type": "code",
   "execution_count": 1,
   "id": "6182a641",
   "metadata": {},
   "outputs": [],
   "source": [
    "import pickle\n",
    "#Load the knowledge base\n",
    "path = \"C:/Users/tmsch/Desktop/ADS_Thesis/Thomas/\"\n",
    "with open(path + \"meetingsInformation.txt\", \"rb\") as fp:   \n",
    "    meetingsInformation = pickle.load(fp)\n",
    "with open(path + \"itemsInformation.txt\", \"rb\") as fp:   \n",
    "    itemsInformation = pickle.load(fp)\n",
    "with open(path + \"entriesInformation.txt\", \"rb\") as fp:   \n",
    "    entriesInformation = pickle.load(fp)\n",
    "\n",
    "with open(path + \"documentsInformation.txt\", \"rb\") as fp:   \n",
    "    documentsInformation = pickle.load(fp)    \n",
    "with open(path + \"listdocumentsInformation.txt\", \"rb\") as fp:   \n",
    "    listdocumentsInformation = pickle.load(fp)\n",
    "with open(path + \"meetdocumentsInformation.txt\", \"rb\") as fp:   \n",
    "    meetdocumentsInformation = pickle.load(fp)"
   ]
  },
  {
   "cell_type": "code",
   "execution_count": 3,
   "id": "35ea159f",
   "metadata": {},
   "outputs": [],
   "source": [
    "import requests\n",
    "\n",
    "sofar = '2db4f7a0-189f-442b-916d-40aadfe05010'\n",
    "found = False\n",
    "\n",
    "for d in documentsInformation:\n",
    "    if d == sofar:\n",
    "        found = True\n",
    "    if found:\n",
    "        r = requests.get(documentsInformation[d]['publicdownloadurl'], stream=True)\n",
    "\n",
    "        with open(path + 'documentsInformation/' + d + '.pdf', 'wb') as f:\n",
    "            f.write(r.content)"
   ]
  },
  {
   "cell_type": "code",
   "execution_count": 6,
   "id": "0e413f39",
   "metadata": {},
   "outputs": [],
   "source": [
    "for d in listdocumentsInformation:\n",
    "    r = requests.get(listdocumentsInformation[d]['publicdownloadurl'], stream=True)\n",
    "    \n",
    "    with open(path + 'listdocumentsInformation/' + d + '.pdf', 'wb') as f:\n",
    "        f.write(r.content)"
   ]
  },
  {
   "cell_type": "code",
   "execution_count": 5,
   "id": "fd58ba02",
   "metadata": {},
   "outputs": [],
   "source": [
    "sofar = 'e9cd3f62-af7d-41ab-bf71-a4692df4a388'\n",
    "found = False\n",
    "\n",
    "for d in meetdocumentsInformation:\n",
    "    if d == sofar:\n",
    "        found = True\n",
    "    if found:\n",
    "        r = requests.get(meetdocumentsInformation[d]['publicdownloadurl'], stream=True)\n",
    "\n",
    "        with open(path + 'meetdocumentsInformation/' + d + '.pdf', 'wb') as f:\n",
    "            f.write(r.content)"
   ]
  },
  {
   "cell_type": "markdown",
   "id": "32cfd95e",
   "metadata": {},
   "source": [
    "# Now extract dates, titles and urls from documents"
   ]
  },
  {
   "cell_type": "code",
   "execution_count": null,
   "id": "749a0936",
   "metadata": {},
   "outputs": [],
   "source": [
    "sofar = #'e9cd3f62-af7d-41ab-bf71-a4692df4a388'\n",
    "found = False\n",
    "#    if d == sofar:\n",
    "#        found = True\n",
    "#    if found:\n",
    "\n",
    "def extractor(d):\n",
    "    results = {}\n",
    "    with open(path + 'meetdocumentsInformation/' + d + '.pdf') as f:\n",
    "        \n",
    "        \n",
    "        results[d] = { 'dates':dates, 'titles':titles, 'urls':urls }\n",
    "    return results\n",
    "\n",
    "\n",
    "loop = 0\n",
    "i = 0\n",
    "jsonpath = path + 'extracts'\n",
    "\n",
    "for d in documentsInformation:\n",
    "    while i < 2000:\n",
    "            results = extractor(d)\n",
    "        \n",
    "        f.write(r.content)        \n",
    "    # every x items we write down our intermediate results and continue\n",
    "    i = 0\n",
    "    with open(path + 'meetdocumentsInformation/' + d + '.pdf') as f:\n"
   ]
  }
 ],
 "metadata": {
  "kernelspec": {
   "display_name": "Python 3 (ipykernel)",
   "language": "python",
   "name": "python3"
  },
  "language_info": {
   "codemirror_mode": {
    "name": "ipython",
    "version": 3
   },
   "file_extension": ".py",
   "mimetype": "text/x-python",
   "name": "python",
   "nbconvert_exporter": "python",
   "pygments_lexer": "ipython3",
   "version": "3.9.7"
  }
 },
 "nbformat": 4,
 "nbformat_minor": 5
}
